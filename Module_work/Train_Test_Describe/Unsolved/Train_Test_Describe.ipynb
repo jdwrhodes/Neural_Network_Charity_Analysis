{
 "cells": [
  {
   "cell_type": "markdown",
   "metadata": {},
   "source": [
    "# Install Dependencies"
   ]
  },
  {
   "cell_type": "code",
   "execution_count": 1,
   "metadata": {},
   "outputs": [],
   "source": [
    "# Initial imports\n",
    "import numpy as np\n",
    "import pandas as pd\n",
    "from path import Path\n",
    "from sklearn.preprocessing import OneHotEncoder\n",
    "from sklearn.model_selection import train_test_split\n",
    "import seaborn as sns"
   ]
  },
  {
   "cell_type": "markdown",
   "metadata": {},
   "source": [
    "# Import and Clean Data"
   ]
  },
  {
   "cell_type": "code",
   "execution_count": 2,
   "metadata": {},
   "outputs": [],
   "source": [
    "# Read in data\n",
    "data = Path(\"../Resources/mpg.csv\")\n",
    "df = pd.read_csv(data, na_values='?')\n",
    "\n",
    "# Drop rows with missing values\n",
    "df.dropna(inplace=True)\n",
    "\n",
    "# Drop 'car name' column\n",
    "df = df.drop([\"car name\"],1)\n",
    "\n",
    "# Convert 'origin' to a string\n",
    "df['origin'] = df['origin'].astype(str) "
   ]
  },
  {
   "cell_type": "markdown",
   "metadata": {},
   "source": [
    "# Encode Categorical Data"
   ]
  },
  {
   "cell_type": "code",
   "execution_count": 3,
   "metadata": {},
   "outputs": [],
   "source": [
    "# Create a OneHotEncoder instance\n",
    "enc = OneHotEncoder(sparse=False)\n",
    "\n",
    "# Fit and transform the OneHotEncoder using the categorical variable list\n",
    "encode_df = pd.DataFrame(enc.fit_transform(df[[\"origin\"]]))\n",
    "\n",
    "# Add the encoded variable names to the dataframe\n",
    "encode_df.columns = enc.get_feature_names([\"origin\"])\n",
    "\n",
    "# Merge one-hot encoded features and drop the originals\n",
    "df = df.merge(encode_df,left_index=True, right_index=True)\n",
    "df = df.drop(\"origin\",1)"
   ]
  },
  {
   "cell_type": "markdown",
   "metadata": {},
   "source": [
    "# Train Test Split"
   ]
  },
  {
   "cell_type": "code",
   "execution_count": 5,
   "metadata": {},
   "outputs": [],
   "source": [
    "# Split our preprocessed data into our features and target arrays\n",
    "X = df.drop(columns=['mpg'])\n",
    "y = df['mpg']\n",
    "\n",
    "# Split the preprocessed data into a training and testing dataset\n",
    "X_train, X_test, y_train, y_test = train_test_split(\n",
    "    X, y, random_state=1)"
   ]
  },
  {
   "cell_type": "code",
   "execution_count": 10,
   "metadata": {},
   "outputs": [
    {
     "output_type": "execute_result",
     "data": {
      "text/plain": [
       "                     mean         std\n",
       "cylinders        5.356401    1.683551\n",
       "displacement   188.468858  103.019158\n",
       "horsepower     102.183391   37.864767\n",
       "weight        2924.584775  847.660527\n",
       "acceleration    15.601730    2.651800\n",
       "model year      75.861592    3.682006\n",
       "origin_1         0.615917    0.487221\n",
       "origin_2         0.176471    0.381881\n",
       "origin_3         0.207612    0.406301"
      ],
      "text/html": "<div>\n<style scoped>\n    .dataframe tbody tr th:only-of-type {\n        vertical-align: middle;\n    }\n\n    .dataframe tbody tr th {\n        vertical-align: top;\n    }\n\n    .dataframe thead th {\n        text-align: right;\n    }\n</style>\n<table border=\"1\" class=\"dataframe\">\n  <thead>\n    <tr style=\"text-align: right;\">\n      <th></th>\n      <th>mean</th>\n      <th>std</th>\n    </tr>\n  </thead>\n  <tbody>\n    <tr>\n      <th>cylinders</th>\n      <td>5.356401</td>\n      <td>1.683551</td>\n    </tr>\n    <tr>\n      <th>displacement</th>\n      <td>188.468858</td>\n      <td>103.019158</td>\n    </tr>\n    <tr>\n      <th>horsepower</th>\n      <td>102.183391</td>\n      <td>37.864767</td>\n    </tr>\n    <tr>\n      <th>weight</th>\n      <td>2924.584775</td>\n      <td>847.660527</td>\n    </tr>\n    <tr>\n      <th>acceleration</th>\n      <td>15.601730</td>\n      <td>2.651800</td>\n    </tr>\n    <tr>\n      <th>model year</th>\n      <td>75.861592</td>\n      <td>3.682006</td>\n    </tr>\n    <tr>\n      <th>origin_1</th>\n      <td>0.615917</td>\n      <td>0.487221</td>\n    </tr>\n    <tr>\n      <th>origin_2</th>\n      <td>0.176471</td>\n      <td>0.381881</td>\n    </tr>\n    <tr>\n      <th>origin_3</th>\n      <td>0.207612</td>\n      <td>0.406301</td>\n    </tr>\n  </tbody>\n</table>\n</div>"
     },
     "metadata": {},
     "execution_count": 10
    }
   ],
   "source": [
    "# Calculate the `mean` and `std` for each feature\n",
    "X_train.describe().transpose()[['mean', 'std']]"
   ]
  },
  {
   "cell_type": "markdown",
   "metadata": {},
   "source": [
    "# Visualize Relationships"
   ]
  },
  {
   "cell_type": "code",
   "execution_count": 6,
   "metadata": {},
   "outputs": [],
   "source": [
    "# Bonus: Create a pairplot ot visualize the relationship between the features: \n",
    "# ['mpg', 'cylinders', 'displacement', 'weight', 'acceleration']\n"
   ]
  }
 ],
 "metadata": {
  "kernelspec": {
   "name": "python379jvsc74a57bd0c8e0068a42f4d5aed5b78028b94b9e0672eb649433431aff7cc26c8cc99eb5e2",
   "display_name": "Python 3.7.9 64-bit ('PythonData': conda)"
  },
  "language_info": {
   "codemirror_mode": {
    "name": "ipython",
    "version": 3
   },
   "file_extension": ".py",
   "mimetype": "text/x-python",
   "name": "python",
   "nbconvert_exporter": "python",
   "pygments_lexer": "ipython3",
   "version": "3.7.9"
  }
 },
 "nbformat": 4,
 "nbformat_minor": 4
}